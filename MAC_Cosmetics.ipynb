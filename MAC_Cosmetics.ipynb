{
  "nbformat": 4,
  "nbformat_minor": 0,
  "metadata": {
    "colab": {
      "name": "Project 1.ipynb",
      "provenance": [],
      "collapsed_sections": [],
      "authorship_tag": "ABX9TyPJNXtcwZMW3wiC3tXLVWOx",
      "include_colab_link": true
    },
    "kernelspec": {
      "name": "python3",
      "display_name": "Python 3"
    }
  },
  "cells": [
    {
      "cell_type": "markdown",
      "metadata": {
        "id": "view-in-github",
        "colab_type": "text"
      },
      "source": [
        "<a href=\"https://colab.research.google.com/github/xyteh/web_scraping/blob/master/MAC_Cosmetics.ipynb\" target=\"_parent\"><img src=\"https://colab.research.google.com/assets/colab-badge.svg\" alt=\"Open In Colab\"/></a>"
      ]
    },
    {
      "cell_type": "code",
      "metadata": {
        "id": "D_T6JY8cpGSv",
        "colab_type": "code",
        "colab": {}
      },
      "source": [
        "import pandas as pd\n",
        "import numpy as np\n",
        "import requests\n",
        "from bs4 import BeautifulSoup"
      ],
      "execution_count": 1,
      "outputs": []
    },
    {
      "cell_type": "code",
      "metadata": {
        "id": "qg8jMKAA51WH",
        "colab_type": "code",
        "colab": {}
      },
      "source": [
        "# Function to get data\n",
        "def get(link):\n",
        "  page = requests.get(link)\n",
        "  soup = BeautifulSoup(page.text, 'html.parser')\n",
        "  containers = soup.find_all('div', class_ = 'product-brief__details')\n",
        "      \n",
        "  product = []\n",
        "  price = []\n",
        "  href = []\n",
        "  des = []\n",
        "\n",
        "  for c in containers:\n",
        "    p = c.find('h3', class_=  'product-brief__product-name').text\n",
        "    product.append(p)\n",
        "\n",
        "    pri = c.find('span', {'class' : 'product-price'})\n",
        "    price.append(pri)\n",
        "\n",
        "    h = c.find('a')['href']\n",
        "    href.append(h)\n",
        "    \n",
        "    d = c.find('div', class_='product-brief__description')\n",
        "    des.append(d)\n",
        "\n",
        "  shades = []\n",
        "  num_shades = []\n",
        "  for i in range (len(href)):\n",
        "    url = requests.get('https://www.maccosmetics.com' + href[i])\n",
        "    soup = BeautifulSoup(url.text, 'html.parser')\n",
        "    span = soup.find_all('span', {'class' : \"js-shade-select-label shade-picker__shade-item--label\"})\n",
        "    line = [s.get_text() for s in span]\n",
        "    string = ''\n",
        "    string = string.join(line)\n",
        "    string = string.replace(\" \", \"\")\n",
        "    string = string.split()\n",
        "    shades.append(string)\n",
        "    num_shades.append(len(string))\n",
        "\n",
        "\n",
        "  dict = {'Product': product, 'Price': price, 'Shades':shades, 'Number of Shades':num_shades, 'Description': des }\n",
        "  data2 = pd.DataFrame(dict)\n",
        "\n",
        "  return data2\n",
        "        "
      ],
      "execution_count": 2,
      "outputs": []
    },
    {
      "cell_type": "code",
      "metadata": {
        "id": "O7uzbys16JrK",
        "colab_type": "code",
        "colab": {}
      },
      "source": [
        "# Lips\n",
        "liquid_lipsitck = get('https://www.maccosmetics.com/mac-liquid-lipstick')\n",
        "lip_gloss = get('https://www.maccosmetics.com/products/13853/Products/Makeup/Lips/Lip-Gloss')\n",
        "lip_liner = get('https://www.maccosmetics.com/products/13852/products/makeup/lips/lip-liner')\n",
        "lip_palettes = get('https://www.maccosmetics.com/products/13851/Products/Makeup/Lips/Lip-Palettes-Kits')\n",
        "mini_mac = get('https://www.maccosmetics.com/mpp-custom-mini-mac')\n",
        "lipstick = get('https://www.maccosmetics.com/products/13854/Products/Makeup/Lips/Lipstick')"
      ],
      "execution_count": 3,
      "outputs": []
    },
    {
      "cell_type": "code",
      "metadata": {
        "id": "58h7Z_HQ7qU9",
        "colab_type": "code",
        "colab": {}
      },
      "source": [
        "liquid_lipsitck['Types'] = 'Liquid Lipsitck'\n",
        "lip_gloss['Types'] = 'Lip Gloss'\n",
        "lip_liner['Types'] = 'Lip Liner'\n",
        "lip_palettes['Types'] = 'Lip Palettes'\n",
        "mini_mac['Types'] = 'Mini Mac'\n",
        "lipstick['Types'] = 'Lipstick'"
      ],
      "execution_count": 4,
      "outputs": []
    },
    {
      "cell_type": "code",
      "metadata": {
        "id": "FFzSLPts85yG",
        "colab_type": "code",
        "colab": {}
      },
      "source": [
        "frame = [liquid_lipsitck, lip_gloss, lip_liner, lip_palettes, lipstick]\n",
        "lip = pd.concat(frame).reset_index(drop=True)\n",
        "lip['Category'] = 'Lips'"
      ],
      "execution_count": 5,
      "outputs": []
    },
    {
      "cell_type": "code",
      "metadata": {
        "id": "vESCbo7A7b2_",
        "colab_type": "code",
        "colab": {}
      },
      "source": [
        "# Face\n",
        "a = get('https://www.maccosmetics.com/products/13847/Products/Makeup/Face/Foundation')\n",
        "b = get('https://www.maccosmetics.com/products/13849/Products/Makeup/Face/Powder')\n",
        "c = get('https://www.maccosmetics.com/products/13842/products/makeup/face/blush-bronzer')\n",
        "d = get('https://www.maccosmetics.com/products/13844/Products/Makeup/Face/Concealer')\n",
        "e = get('https://www.maccosmetics.com/products/20158/products/makeup/face/highlighting-contouring')\n",
        "f = get('https://www.maccosmetics.com/products/13845/Products/Makeup/Face/Face-Palettes-Kits')\n",
        "g = get('https://www.maccosmetics.com/products/13848/Products/Makeup/Face/Multi-Use')\n"
      ],
      "execution_count": 6,
      "outputs": []
    },
    {
      "cell_type": "code",
      "metadata": {
        "id": "EMzjdwHz-arq",
        "colab_type": "code",
        "colab": {}
      },
      "source": [
        "a['Types'] = 'Foundation'\n",
        "b['Types'] = 'Powder'\n",
        "c['Types'] = 'Bronzer'\n",
        "d['Types'] = 'Concealer'\n",
        "e['Types'] = 'Highlighters'\n",
        "f['Types'] = 'Face Palettes'\n",
        "g['Types'] = 'Glitters'\n",
        "\n",
        "frame = [a,b,c,d,e,f,g]\n",
        "face = pd.concat(frame).reset_index(drop=True)\n",
        "face['Category'] = 'Face'"
      ],
      "execution_count": 7,
      "outputs": []
    },
    {
      "cell_type": "code",
      "metadata": {
        "id": "CEekEeq9-avb",
        "colab_type": "code",
        "colab": {}
      },
      "source": [
        "#Eye\n",
        "a = get('https://www.maccosmetics.com/products/13840/products/makeup/eyes/eyeshadow')\n",
        "b = get('https://www.maccosmetics.com/products/13838/products/makeup/eyes/eyeliner')\n",
        "c = get('https://www.maccosmetics.com/products/13839/Products/Makeup/Eyes/Mascara')\n",
        "d = get('https://www.maccosmetics.com/products/13834/products/makeup/eyes/eyebrow')\n",
        "e = get('https://www.maccosmetics.com/products/13837/products/makeup/eyes/eyelashes')\n",
        "f = get('https://www.maccosmetics.com/products/13835/Products/Makeup/Eyes/Eye-Palettes-Kits')\n"
      ],
      "execution_count": 8,
      "outputs": []
    },
    {
      "cell_type": "code",
      "metadata": {
        "id": "wyKNRNNkBats",
        "colab_type": "code",
        "colab": {}
      },
      "source": [
        "a['Types'] = 'Eyeshadow'\n",
        "b['Types'] = 'Eyeliner'\n",
        "c['Types'] = 'Mascara'\n",
        "d['Types'] = 'Eyebrow'\n",
        "e['Types'] = 'Eyelashes'\n",
        "f['Types'] = 'Eye Palettes'\n",
        "\n",
        "frame = [a,b,c,d,e,f,g]\n",
        "eye = pd.concat(frame).reset_index(drop=True)\n",
        "eye['Category'] = 'Eyes'"
      ],
      "execution_count": 9,
      "outputs": []
    },
    {
      "cell_type": "code",
      "metadata": {
        "id": "7C29GDNrBa2U",
        "colab_type": "code",
        "colab": {}
      },
      "source": [
        "#Brushes/Tools\n",
        "a = get('https://www.maccosmetics.com/products/13802/Products/Brushes-Tools/Brushes/All-Brushes')\n",
        "b = get('https://www.maccosmetics.com/products/13811/products/brushes-tools/tools/sponges-applicators')\n",
        "c = get('https://www.maccosmetics.com/products/14327/Products/Brushes-Tools/Tools/Accessories')\n",
        "d = get('https://www.maccosmetics.com/products/13812/Products/Brushes-Tools/Tools/Bags')\n",
        "e = get('https://www.maccosmetics.com/products/21085/products/makeup/pro-products/all-pro')"
      ],
      "execution_count": 10,
      "outputs": []
    },
    {
      "cell_type": "code",
      "metadata": {
        "id": "cqgz5b6bCcqu",
        "colab_type": "code",
        "colab": {}
      },
      "source": [
        "a['Types'] = 'Brushes'\n",
        "b['Types'] = 'Sponges/Apllicators'\n",
        "c['Types'] = 'Accessories'\n",
        "d['Types'] = 'Bags'\n",
        "e['Types'] = 'Pro Products'\n",
        "\n",
        "frame = [a,b,c,d,e]\n",
        "brush = pd.concat(frame).reset_index(drop=True)\n",
        "brush['Category'] = 'Brushes/Tools'"
      ],
      "execution_count": 11,
      "outputs": []
    },
    {
      "cell_type": "code",
      "metadata": {
        "id": "_DBlKHmTCc0e",
        "colab_type": "code",
        "colab": {}
      },
      "source": [
        "a = get('https://www.maccosmetics.com/products/13825/products/skincare/primers')\n",
        "b = get('https://www.maccosmetics.com/products/14756/Products/Makeup/Eyes/Eye-Primer')\n",
        "c = get('https://www.maccosmetics.com/products/14766/Products/Makeup/Lips/Lip-Care-Primer')\n",
        "d = get('https://www.maccosmetics.com/setting-sprays')\n",
        "e = get('https://www.maccosmetics.com/products/13824/Products/Primer-Skincare/Moisturizers')\n",
        "f = get('https://www.maccosmetics.com/products/13826/Products/Primer-Skincare/Removers')\n",
        "h = get('https://www.maccosmetics.com/products/21052/products/fragrance/all-fragrance')\n"
      ],
      "execution_count": 12,
      "outputs": []
    },
    {
      "cell_type": "code",
      "metadata": {
        "id": "kKynoZGnDZcQ",
        "colab_type": "code",
        "colab": {}
      },
      "source": [
        "a['Types'] = 'Primers'\n",
        "b['Types'] = 'Eye Primer'\n",
        "c['Types'] = 'Lip Care Primer'\n",
        "d['Types'] = 'Setting Sprays'\n",
        "e['Types'] = 'Moisturizers'\n",
        "f['Types'] = 'Fragrance'\n",
        "\n",
        "frame = [a,b,c,d,e,f]\n",
        "skin = pd.concat(frame).reset_index(drop=True)\n",
        "skin['Category'] = 'Skin'"
      ],
      "execution_count": 13,
      "outputs": []
    },
    {
      "cell_type": "code",
      "metadata": {
        "id": "DvpQNSE9Ds9g",
        "colab_type": "code",
        "colab": {}
      },
      "source": [
        "mini_mac['Category'] = 'Mini Mac'\n",
        "frame = [lip, eye, face, brush, skin, mini_mac]\n",
        "data = pd.concat(frame).reset_index(drop=True)"
      ],
      "execution_count": 14,
      "outputs": []
    },
    {
      "cell_type": "code",
      "metadata": {
        "id": "vPsVkK_-ISU1",
        "colab_type": "code",
        "colab": {
          "base_uri": "https://localhost:8080/",
          "height": 104
        },
        "outputId": "7f9bd368-d37d-43a6-b04f-7f06d522e5fa"
      },
      "source": [
        "for i in range(data.shape[0]):\n",
        "  data.Description[i] = data.Description[i].getText().strip()"
      ],
      "execution_count": 15,
      "outputs": [
        {
          "output_type": "stream",
          "text": [
            "/usr/local/lib/python3.6/dist-packages/ipykernel_launcher.py:2: SettingWithCopyWarning: \n",
            "A value is trying to be set on a copy of a slice from a DataFrame\n",
            "\n",
            "See the caveats in the documentation: https://pandas.pydata.org/pandas-docs/stable/user_guide/indexing.html#returning-a-view-versus-a-copy\n",
            "  \n"
          ],
          "name": "stderr"
        }
      ]
    },
    {
      "cell_type": "code",
      "metadata": {
        "id": "gj7RAF-jNfDj",
        "colab_type": "code",
        "colab": {
          "base_uri": "https://localhost:8080/",
          "height": 104
        },
        "outputId": "96290981-3104-4ed3-f3a6-066ac5fc9e3e"
      },
      "source": [
        "for i in range(data.shape[0]):\n",
        "  if data.Price[i] is not None:\n",
        "    data.Price[i] = data.Price[i].getText().strip()"
      ],
      "execution_count": 16,
      "outputs": [
        {
          "output_type": "stream",
          "text": [
            "/usr/local/lib/python3.6/dist-packages/ipykernel_launcher.py:3: SettingWithCopyWarning: \n",
            "A value is trying to be set on a copy of a slice from a DataFrame\n",
            "\n",
            "See the caveats in the documentation: https://pandas.pydata.org/pandas-docs/stable/user_guide/indexing.html#returning-a-view-versus-a-copy\n",
            "  This is separate from the ipykernel package so we can avoid doing imports until\n"
          ],
          "name": "stderr"
        }
      ]
    },
    {
      "cell_type": "code",
      "metadata": {
        "id": "BU4kSrekktYt",
        "colab_type": "code",
        "colab": {}
      },
      "source": [
        "data = data.drop_duplicates(subset='Product', keep='first').reset_index(drop=True)"
      ],
      "execution_count": 23,
      "outputs": []
    },
    {
      "cell_type": "code",
      "metadata": {
        "id": "AFCXoCE6HfBU",
        "colab_type": "code",
        "colab": {
          "base_uri": "https://localhost:8080/",
          "height": 17
        },
        "outputId": "50728248-77da-4c3a-9bdc-b33895def55e"
      },
      "source": [
        "from google.colab import files\n",
        "data.to_csv('data.csv') \n",
        "files.download('data.csv')"
      ],
      "execution_count": 25,
      "outputs": [
        {
          "output_type": "display_data",
          "data": {
            "application/javascript": [
              "\n",
              "    async function download(id, filename, size) {\n",
              "      if (!google.colab.kernel.accessAllowed) {\n",
              "        return;\n",
              "      }\n",
              "      const div = document.createElement('div');\n",
              "      const label = document.createElement('label');\n",
              "      label.textContent = `Downloading \"${filename}\": `;\n",
              "      div.appendChild(label);\n",
              "      const progress = document.createElement('progress');\n",
              "      progress.max = size;\n",
              "      div.appendChild(progress);\n",
              "      document.body.appendChild(div);\n",
              "\n",
              "      const buffers = [];\n",
              "      let downloaded = 0;\n",
              "\n",
              "      const channel = await google.colab.kernel.comms.open(id);\n",
              "      // Send a message to notify the kernel that we're ready.\n",
              "      channel.send({})\n",
              "\n",
              "      for await (const message of channel.messages) {\n",
              "        // Send a message to notify the kernel that we're ready.\n",
              "        channel.send({})\n",
              "        if (message.buffers) {\n",
              "          for (const buffer of message.buffers) {\n",
              "            buffers.push(buffer);\n",
              "            downloaded += buffer.byteLength;\n",
              "            progress.value = downloaded;\n",
              "          }\n",
              "        }\n",
              "      }\n",
              "      const blob = new Blob(buffers, {type: 'application/binary'});\n",
              "      const a = document.createElement('a');\n",
              "      a.href = window.URL.createObjectURL(blob);\n",
              "      a.download = filename;\n",
              "      div.appendChild(a);\n",
              "      a.click();\n",
              "      div.remove();\n",
              "    }\n",
              "  "
            ],
            "text/plain": [
              "<IPython.core.display.Javascript object>"
            ]
          },
          "metadata": {
            "tags": []
          }
        },
        {
          "output_type": "display_data",
          "data": {
            "application/javascript": [
              "download(\"download_566fd3d9-9f53-438b-b7a8-d0e5fdd5e238\", \"data.csv\", 102726)"
            ],
            "text/plain": [
              "<IPython.core.display.Javascript object>"
            ]
          },
          "metadata": {
            "tags": []
          }
        }
      ]
    }
  ]
}